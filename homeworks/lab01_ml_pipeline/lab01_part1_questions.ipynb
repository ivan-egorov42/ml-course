{
 "cells": [
  {
   "cell_type": "markdown",
   "metadata": {},
   "source": [
    "*Credits: materials from this notebook belong to YSDA [Practical DL](https://github.com/yandexdataschool/Practical_DL) course. Special thanks for making them available online.*"
   ]
  },
  {
   "cell_type": "markdown",
   "metadata": {},
   "source": [
    "# Lab assignment №1, part 1\n",
    "\n",
    "This lab assignment consists of several parts. You are supposed to make some transformations, train some models, estimate the quality of the models and explain your results.\n",
    "\n",
    "Several comments:\n",
    "* Don't hesitate to ask questions, it's a good practice.\n",
    "* No private/public sharing, please. The copied assignments will be graded with 0 points.\n",
    "* Blocks of this lab will be graded separately."
   ]
  },
  {
   "cell_type": "markdown",
   "metadata": {},
   "source": [
    "## 1. Matrix differentiation"
   ]
  },
  {
   "cell_type": "markdown",
   "metadata": {},
   "source": [
    "Since it easy to google every task please please please try to undestand what's going on. The \"just answer\" thing will be not counted, make sure to present derivation of your solution. It is absolutely OK if you found an answer on web then just exercise in $\\LaTeX$ copying it into here."
   ]
  },
  {
   "cell_type": "markdown",
   "metadata": {},
   "source": [
    "Useful links: \n",
    "[1](http://www.machinelearning.ru/wiki/images/2/2a/Matrix-Gauss.pdf)\n",
    "[2](http://www.atmos.washington.edu/~dennis/MatrixCalculus.pdf)"
   ]
  },
  {
   "cell_type": "markdown",
   "metadata": {},
   "source": [
    "## ex. 1"
   ]
  },
  {
   "cell_type": "markdown",
   "metadata": {},
   "source": [
    "$$  \n",
    "y = x^Tx,  \\quad x \\in \\mathbb{R}^N \n",
    "$$"
   ]
  },
  {
   "cell_type": "markdown",
   "metadata": {},
   "source": [
    "$$\n",
    "\\frac{dy}{dx} = \n",
    "$$ "
   ]
  },
  {
   "cell_type": "markdown",
   "metadata": {
    "collapsed": true,
    "jupyter": {
     "outputs_hidden": true
    }
   },
   "source": [
    "$$x = \n",
    "\\begin{pmatrix}\n",
    "x_{1} \\\\\n",
    "...\\\\\n",
    "x_{n}\n",
    "\\end{pmatrix}\n",
    "$$\n",
    "\n",
    "$$ y = \n",
    " (x_{1},...,x_{n})\n",
    "\\begin{pmatrix}\n",
    "x_{1} \\\\\n",
    "...\\\\\n",
    "x_{n}\n",
    "\\end{pmatrix} = x_{1}^2 + ... + x_{n}^2 \\\\\n",
    "$$\n",
    "\n",
    "$$\\frac{dy}{dx} =  \n",
    "\\begin{pmatrix}\n",
    "\\frac{dy}{dx_{1}} \\\\\n",
    "... \\\\\n",
    "\\frac{dy}{dx_{n}}\n",
    "\\end{pmatrix} = \n",
    "2\n",
    "\\begin{pmatrix}\n",
    "x_{1} \\\\\n",
    "...\\\\\n",
    "x_{n}\n",
    "\\end{pmatrix} = 2x\n",
    "$$\n",
    "\n",
    "$$\n",
    "Res: \\frac{dy}{dx} = 2x \\\\\n",
    "$$"
   ]
  },
  {
   "cell_type": "markdown",
   "metadata": {},
   "source": [
    "## ex. 2"
   ]
  },
  {
   "cell_type": "markdown",
   "metadata": {},
   "source": [
    "$$ y = tr(AB) \\quad A,B \\in \\mathbb{R}^{N \\times N} $$ "
   ]
  },
  {
   "cell_type": "markdown",
   "metadata": {},
   "source": [
    "$$\n",
    "\\frac{dy}{dA} =\n",
    "$$"
   ]
  },
  {
   "cell_type": "markdown",
   "metadata": {
    "collapsed": true,
    "jupyter": {
     "outputs_hidden": true
    }
   },
   "source": [
    "$$ \n",
    "C = AB \n",
    "$$\n",
    "\n",
    "$$ \n",
    "c_{i i} = \\sum_{j = 1}^N a_{ij} \\cdot b_{ji} \n",
    "$$\n",
    "\n",
    "$$ \n",
    "y = \\sum_{i = 1}^N c_{i i} = \\sum_{i = 1}^N \\sum_{j = 1}^N a_{ij} \\cdot b_{ji} \n",
    "$$\n",
    "\n",
    "$$ \n",
    "\\frac{\\partial y}{\\partial a_{\\alpha \\beta}} = \\sum_{i = 1}^N \\sum_{j = 1}^N \\delta_{i \\alpha} \\delta_{j \\beta} \\cdot b_{ji} = b_{\\beta \\alpha}\n",
    "$$\n",
    "\n",
    "$$ \n",
    "Res: \\frac{dy}{dA} = B^T\n",
    "$$"
   ]
  },
  {
   "cell_type": "markdown",
   "metadata": {},
   "source": [
    "## ex. 3"
   ]
  },
  {
   "cell_type": "markdown",
   "metadata": {},
   "source": [
    "$$  \n",
    "y = x^TAc , \\quad A\\in \\mathbb{R}^{N \\times N}, x\\in \\mathbb{R}^{N}, c\\in \\mathbb{R}^{N} \n",
    "$$"
   ]
  },
  {
   "cell_type": "markdown",
   "metadata": {},
   "source": [
    "$$\n",
    "\\frac{dy}{dx} =\n",
    "$$"
   ]
  },
  {
   "cell_type": "markdown",
   "metadata": {},
   "source": [
    "$$\n",
    "\\frac{dy}{dA} =\n",
    "$$ "
   ]
  },
  {
   "cell_type": "markdown",
   "metadata": {},
   "source": [
    "Hint for the latter (one of the ways): use *ex. 2* result and the fact \n",
    "$$\n",
    "tr(ABC) = tr (CAB)\n",
    "$$"
   ]
  },
  {
   "cell_type": "markdown",
   "metadata": {
    "collapsed": true,
    "jupyter": {
     "outputs_hidden": true
    }
   },
   "source": [
    "$$ y = \\sum_{i = 1}^N \\sum_{j = 1}^N x_i a_{ij} c_j $$\n",
    "$$ \\frac{\\partial y}{\\partial x_\\alpha} = \\sum_{i = 1}^N \\sum_{j = 1}^N \\delta_{i \\alpha} a_{ij} c_j = \\sum_{j = 1}^N a_{\\alpha j} c_j $$\n",
    "$$ Res: \\frac{dy}{dx} = Ac $$\n",
    "\n",
    "$$ \\frac{\\partial y}{\\partial a_{\\alpha \\beta}} = \\sum_{i = 1}^N \\sum_{j = 1}^N x_i \\delta_{i \\alpha} \\delta_{j \\beta} c_j = x_\\alpha c_\\beta $$\n",
    "$$ Res: \\frac{dy}{dA} = x c^T$$"
   ]
  },
  {
   "cell_type": "markdown",
   "metadata": {},
   "source": [
    "## ex. 4"
   ]
  },
  {
   "cell_type": "markdown",
   "metadata": {},
   "source": [
    "Classic matrix factorization example. Given matrix $X$ you need to find $A$, $S$ to approximate $X$. This can be done by simple gradient descent iteratively alternating $A$ and $S$ updates.\n",
    "$$\n",
    "J = || X - AS ||_F^2  , \\quad A\\in \\mathbb{R}^{N \\times R} , \\quad S\\in \\mathbb{R}^{R \\times M}\n",
    "$$\n",
    "$$\n",
    "\\frac{dJ}{dS} = ? \n",
    "$$\n",
    "\n",
    "You may use one of the following approaches:"
   ]
  },
  {
   "cell_type": "markdown",
   "metadata": {},
   "source": [
    "#### First approach (I used it)\n",
    "Using ex.2 and the fact:\n",
    "$$\n",
    "|| X ||_F^2 = tr(XX^T) \n",
    "$$ \n",
    "it is easy to derive gradients (you can find it in one of the refs). \n",
    "\n",
    "$$ Y = X - AS, \\quad Y\\in \\mathbb{R}^{N \\times M} $$\n",
    "$$ y_{i j} = \\sum_{k = 1}^R (x_{i j} - a_{i k} s_{k j} ) $$\n",
    "$$ || Y ||_F^2 = \\sum_{i = 1}^N \\sum_{j = 1}^M y_{i j}^2 = \\sum_{i = 1}^N \\sum_{j = 1}^M (\\sum_{k = 1}^R (x_{i j} - a_{i k} s_{k j} ))^2 $$\n",
    "$$ \\frac{\\partial J}{\\partial s_{\\alpha \\beta}} = -2 \\sum_{i = 1}^N \\sum_{j = 1}^M (\\sum_{k = 1}^R (x_{i j} - a_{i k} s_{k j}) \\cdot a_{ik} \\delta_{k \\alpha} \\delta_{j \\beta} ) =\n",
    "-2\\sum_{i = 1}^N a_{i \\alpha} (x_{i \\beta} - a_{i \\alpha} s_{\\alpha \\beta} ) $$\n",
    "$$ Res: \\frac{dJ}{dS} = -2A^T(X - AS) = 2A^T(AS - X) $$"
   ]
  },
  {
   "cell_type": "markdown",
   "metadata": {},
   "source": [
    "#### Second approach\n",
    "You can use *slightly different techniques* if they suits you. Take a look at this derivation:\n",
    "<img src=\"grad.png\">\n",
    "(excerpt from [Handbook of blind source separation, Jutten, page 517](https://books.google.ru/books?id=PTbj03bYH6kC&printsec=frontcover&dq=Handbook+of+Blind+Source+Separation&hl=en&sa=X&ved=0ahUKEwi-q_apiJDLAhULvXIKHVXJDWcQ6AEIHDAA#v=onepage&q=Handbook%20of%20Blind%20Source%20Separation&f=false), open for better picture)."
   ]
  },
  {
   "cell_type": "markdown",
   "metadata": {},
   "source": [
    "#### Third approach\n",
    "And finally we can use chain rule! \n",
    "let $ F = AS $ \n",
    "\n",
    "**Find**\n",
    "$$\n",
    "\\frac{dJ}{dF} =  \n",
    "$$ \n",
    "and \n",
    "$$\n",
    "\\frac{dF}{dS} =  \n",
    "$$ \n",
    "(the shape should be $ NM \\times RM )$.\n",
    "\n",
    "Now it is easy do get desired gradients:\n",
    "$$\n",
    "\\frac{dJ}{dS} =  \n",
    "$$ "
   ]
  },
  {
   "cell_type": "markdown",
   "metadata": {
    "collapsed": true,
    "jupyter": {
     "outputs_hidden": true
    }
   },
   "source": [
    "## 2. kNN questions\n",
    "Here come the questions from the assignment0_01. Please, refer to the assignment0_01 to get the context of the questions."
   ]
  },
  {
   "cell_type": "markdown",
   "metadata": {},
   "source": [
    "### Question 1\n",
    "\n",
    "Notice the structured patterns in the distance matrix, where some rows or columns are visible brighter. (Note that with the default color scheme black indicates low distances while white indicates high distances.)\n",
    "\n",
    "- What in the data is the cause behind the distinctly bright rows?\n",
    "- What causes the columns?\n",
    "\n",
    "*Your Answer:*\n",
    "-  Test dataset is different from the train dataset\n",
    "- It is bright because training points is differing from the test ones.\n",
    "\n"
   ]
  },
  {
   "cell_type": "markdown",
   "metadata": {},
   "source": [
    "### Question 2\n",
    "\n",
    "We can also use other distance metrics such as L1 distance.\n",
    "For pixel values $p_{ij}^{(k)}$ at location $(i,j)$ of some image $I_k$, \n",
    "\n",
    "the mean $\\mu$ across all pixels over all images is $$\\mu=\\frac{1}{nhw}\\sum_{k=1}^n\\sum_{i=1}^{h}\\sum_{j=1}^{w}p_{ij}^{(k)}$$\n",
    "And the pixel-wise mean $\\mu_{ij}$ across all images is \n",
    "$$\\mu_{ij}=\\frac{1}{n}\\sum_{k=1}^np_{ij}^{(k)}.$$\n",
    "The general standard deviation $\\sigma$ and pixel-wise standard deviation $\\sigma_{ij}$ is defined similarly.\n",
    "\n",
    "Which of the following preprocessing steps will not change the performance of a Nearest Neighbor classifier that uses L1 distance? Select all that apply.\n",
    "1. Subtracting the mean $\\mu$ ($\\tilde{p}_{ij}^{(k)}=p_{ij}^{(k)}-\\mu$.)\n",
    "2. Subtracting the per pixel mean $\\mu_{ij}$  ($\\tilde{p}_{ij}^{(k)}=p_{ij}^{(k)}-\\mu_{ij}$.)\n",
    "3. Subtracting the mean $\\mu$ and dividing by the standard deviation $\\sigma$.\n",
    "4. Subtracting the pixel-wise mean $\\mu_{ij}$ and dividing by the pixel-wise standard deviation $\\sigma_{ij}$.\n",
    "5. Rotating the coordinate axes of the data.\n",
    "\n",
    "*Your Answer:*\n",
    "1 and 3\n",
    "\n",
    "*Your Explanation:*\n",
    "\n",
    "1) Shifting the mean does not alter the metric and is equivalent to a shift along the axis.\n",
    "2) The per pixel mean can vary across elements, allowing it to be modified in any metric.\n",
    "3) Dividing by the standard deviation alters the magnitude of the distance but maintains the relative ratio of distances, thus keeping it unchanged.\n",
    "4) Different pixels for different elements can be changed.\n",
    "5) The L1 metric is affected by rotations in the coordinate system, leading to changes in its value."
   ]
  },
  {
   "cell_type": "markdown",
   "metadata": {},
   "source": [
    "## Question 3\n",
    "\n",
    "Which of the following statements about $k$-Nearest Neighbor ($k$-NN) are true in a classification setting, and for all $k$? Select all that apply.\n",
    "1. The decision boundary (hyperplane between classes in feature space) of the k-NN classifier is linear.\n",
    "2. The training error of a 1-NN will always be lower than that of 5-NN.\n",
    "3. The test error of a 1-NN will always be lower than that of a 5-NN.\n",
    "4. The time needed to classify a test example with the k-NN classifier grows with the size of the training set.\n",
    "5. None of the above.\n",
    "\n",
    "*Your Answer:*\n",
    "2 and 4\n",
    "\n",
    "*Your Explanation:*\n",
    "\n",
    "1) This statement holds true exclusively for 1-NN analysis, while it does not apply to other cases. \n",
    "2) It is indeed accurate, as in the case of 1-NN, the training error is evaluated using the same observation's value.\n",
    "3) The processing time required for the dataset is directly proportional to the number of neighbors being checked.\n",
    "4) The processing time for the dataset is directly proportional to the dataset's size, at the very least.\n"
   ]
  }
 ],
 "metadata": {
  "kernelspec": {
   "display_name": "Python 3",
   "language": "python",
   "name": "python3"
  },
  "language_info": {
   "codemirror_mode": {
    "name": "ipython",
    "version": 3
   },
   "file_extension": ".py",
   "mimetype": "text/x-python",
   "name": "python",
   "nbconvert_exporter": "python",
   "pygments_lexer": "ipython3",
   "version": "3.8.10"
  }
 },
 "nbformat": 4,
 "nbformat_minor": 4
}
